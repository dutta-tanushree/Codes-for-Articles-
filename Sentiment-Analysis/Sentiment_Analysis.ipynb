{
  "nbformat": 4,
  "nbformat_minor": 0,
  "metadata": {
    "colab": {
      "provenance": [],
      "gpuType": "T4"
    },
    "kernelspec": {
      "name": "python3",
      "display_name": "Python 3"
    },
    "language_info": {
      "name": "python"
    },
    "accelerator": "GPU"
  },
  "cells": [
    {
      "cell_type": "code",
      "execution_count": 1,
      "metadata": {
        "colab": {
          "base_uri": "https://localhost:8080/"
        },
        "id": "LIXSnECZdy_z",
        "outputId": "2890714e-06b2-4e82-d347-fbb852b76f5a"
      },
      "outputs": [
        {
          "output_type": "stream",
          "name": "stderr",
          "text": [
            "[nltk_data] Downloading package stopwords to /root/nltk_data...\n",
            "[nltk_data]   Package stopwords is already up-to-date!\n",
            "[nltk_data] Downloading package punkt to /root/nltk_data...\n",
            "[nltk_data]   Package punkt is already up-to-date!\n"
          ]
        }
      ],
      "source": [
        "import nltk\n",
        "from nltk.corpus import movie_reviews\n",
        "import pandas as pd\n",
        "import string\n",
        "from nltk.corpus import stopwords\n",
        "from nltk.stem import PorterStemmer\n",
        "from nltk.tokenize import word_tokenize\n",
        "nltk.download('stopwords')\n",
        "nltk.download('punkt')\n",
        "from gensim.models import Word2Vec\n",
        "\n",
        "from sklearn.decomposition import LatentDirichletAllocation\n",
        "from sklearn.feature_extraction.text import CountVectorizer\n",
        "from sklearn.feature_extraction.text import TfidfVectorizer\n",
        "from sklearn.model_selection import train_test_split\n",
        "from sklearn.linear_model import LogisticRegression\n",
        "from sklearn.metrics import accuracy_score"
      ]
    },
    {
      "cell_type": "code",
      "source": [
        "# Download the dataset\n",
        "nltk.download('movie_reviews')\n",
        "\n",
        "# Load the reviews data into a DataFrame\n",
        "documents = [(list(movie_reviews.words(fileid)), category)\n",
        "             for category in movie_reviews.categories()\n",
        "             for fileid in movie_reviews.fileids(category)]\n",
        "\n",
        "# Convert the documents into a pandas DataFrame\n",
        "data = pd.DataFrame(documents, columns=['Review', 'Sentiment'])"
      ],
      "metadata": {
        "colab": {
          "base_uri": "https://localhost:8080/"
        },
        "id": "9XB0vPPWeNBf",
        "outputId": "e21f3fb0-1a5d-453b-b82f-7eec8e0aeb7e"
      },
      "execution_count": 2,
      "outputs": [
        {
          "output_type": "stream",
          "name": "stderr",
          "text": [
            "[nltk_data] Downloading package movie_reviews to /root/nltk_data...\n",
            "[nltk_data]   Package movie_reviews is already up-to-date!\n"
          ]
        }
      ]
    },
    {
      "cell_type": "code",
      "source": [
        "# Initialize stop words and stemmer\n",
        "stop_words = set(stopwords.words('english'))\n",
        "stemmer = PorterStemmer()\n",
        "\n",
        "# Function to clean the text\n",
        "def preprocess_text(text):\n",
        "    text = ' '.join(text)  # Join the tokenized words into a string\n",
        "    text = text.lower()  # Convert to lowercase\n",
        "    text = text.translate(str.maketrans('', '', string.punctuation))  # Remove punctuation\n",
        "    tokens = word_tokenize(text)  # Tokenize the text\n",
        "    tokens = [stemmer.stem(word) for word in tokens if word not in stop_words]  # Remove stop words and stem words\n",
        "    return ' '.join(tokens)\n",
        "\n",
        "# Apply the preprocessing to each review\n",
        "data['Cleaned_Review'] = data['Review'].apply(preprocess_text)"
      ],
      "metadata": {
        "id": "JoJRZG99eP8-"
      },
      "execution_count": 3,
      "outputs": []
    },
    {
      "cell_type": "code",
      "source": [
        "' '.join(data['Review'][2])#[0]"
      ],
      "metadata": {
        "colab": {
          "base_uri": "https://localhost:8080/",
          "height": 106
        },
        "id": "a7MTJ6QcqtNg",
        "outputId": "7b9d65de-0f72-42d7-831d-ba6cb851e2f1"
      },
      "execution_count": 4,
      "outputs": [
        {
          "output_type": "execute_result",
          "data": {
            "text/plain": [
              "\"it is movies like these that make a jaded movie viewer thankful for the invention of the timex indiglo watch . based on the late 1960 ' s television show by the same name , the mod squad tells the tale of three reformed criminals under the employ of the police to go undercover . however , things go wrong as evidence gets stolen and they are immediately under suspicion . of course , the ads make it seem like so much more . quick cuts , cool music , claire dane ' s nice hair and cute outfits , car chases , stuff blowing up , and the like . sounds like a cool movie , does it not ? after the first fifteen minutes , it quickly becomes apparent that it is not . the mod squad is certainly a slick looking production , complete with nice hair and costumes , but that simply isn ' t enough . the film is best described as a cross between an hour - long cop show and a music video , both stretched out into the span of an hour and a half . and with it comes every single clich ? . it doesn ' t really matter that the film is based on a television show , as most of the plot elements have been recycled from everything we ' ve already seen . the characters and acting is nothing spectacular , sometimes even bordering on wooden . claire danes and omar epps deliver their lines as if they are bored , which really transfers onto the audience . the only one to escape relatively unscathed is giovanni ribisi , who plays the resident crazy man , ultimately being the only thing worth watching . unfortunately , even he ' s not enough to save this convoluted mess , as all the characters don ' t do much apart from occupying screen time . with the young cast , cool clothes , nice hair , and hip soundtrack , it appears that the film is geared towards the teenage mindset . despite an american ' r ' rating ( which the content does not justify ) , the film is way too juvenile for the older mindset . information on the characters is literally spoon - fed to the audience ( would it be that hard to show us instead of telling us ? ) , dialogue is poorly written , and the plot is extremely predictable . the way the film progresses , you likely won ' t even care if the heroes are in any jeopardy , because you ' ll know they aren ' t . basing the show on a 1960 ' s television show that nobody remembers is of questionable wisdom , especially when one considers the target audience and the fact that the number of memorable films based on television shows can be counted on one hand ( even one that ' s missing a finger or two ) . the number of times that i checked my watch ( six ) is a clear indication that this film is not one of them . it is clear that the film is nothing more than an attempt to cash in on the teenage spending dollar , judging from the rash of really awful teen - flicks that we ' ve been seeing as of late . avoid this film at all costs .\""
            ],
            "application/vnd.google.colaboratory.intrinsic+json": {
              "type": "string"
            }
          },
          "metadata": {},
          "execution_count": 4
        }
      ]
    },
    {
      "cell_type": "code",
      "source": [
        "data['Cleaned_Review'][2]"
      ],
      "metadata": {
        "colab": {
          "base_uri": "https://localhost:8080/",
          "height": 106
        },
        "id": "4tZ1mT-JOhcS",
        "outputId": "a33466dc-becd-4307-fec8-3bad8a8c44ac"
      },
      "execution_count": 5,
      "outputs": [
        {
          "output_type": "execute_result",
          "data": {
            "text/plain": [
              "'movi like make jade movi viewer thank invent timex indiglo watch base late 1960 televis show name mod squad tell tale three reform crimin employ polic go undercov howev thing go wrong evid get stolen immedi suspicion cours ad make seem like much quick cut cool music clair dane nice hair cute outfit car chase stuff blow like sound like cool movi first fifteen minut quickli becom appar mod squad certainli slick look product complet nice hair costum simpli enough film best describ cross hour long cop show music video stretch span hour half come everi singl clich realli matter film base televis show plot element recycl everyth alreadi seen charact act noth spectacular sometim even border wooden clair dane omar epp deliv line bore realli transfer onto audienc one escap rel unscath giovanni ribisi play resid crazi man ultim thing worth watch unfortun even enough save convolut mess charact much apart occupi screen time young cast cool cloth nice hair hip soundtrack appear film gear toward teenag mindset despit american r rate content justifi film way juvenil older mindset inform charact liter spoon fed audienc would hard show us instead tell us dialogu poorli written plot extrem predict way film progress like even care hero jeopardi know base show 1960 televis show nobodi rememb question wisdom especi one consid target audienc fact number memor film base televis show count one hand even one miss finger two number time check watch six clear indic film one clear film noth attempt cash teenag spend dollar judg rash realli aw teen flick see late avoid film cost'"
            ],
            "application/vnd.google.colaboratory.intrinsic+json": {
              "type": "string"
            }
          },
          "metadata": {},
          "execution_count": 5
        }
      ]
    },
    {
      "cell_type": "code",
      "source": [
        "# Convert the cleaned text into a document-term matrix\n",
        "vectorizer = CountVectorizer(max_features=1000)\n",
        "X = vectorizer.fit_transform(data['Cleaned_Review'])\n",
        "\n",
        "# Initialize LDA model\n",
        "lda = LatentDirichletAllocation(n_components=5, random_state=42)\n",
        "lda.fit(X)\n",
        "\n",
        "# Get the top words for each topic\n",
        "for index, topic in enumerate(lda.components_):\n",
        "    print(f\"Top words for topic #{index}\")\n",
        "    print([vectorizer.get_feature_names_out()[i] for i in topic.argsort()[-10:]])\n",
        "    print(\"\\n\")\n"
      ],
      "metadata": {
        "colab": {
          "base_uri": "https://localhost:8080/"
        },
        "id": "7QZ_OpEtkaOm",
        "outputId": "8d170782-c847-4842-ac43-c133d35f85fc"
      },
      "execution_count": 6,
      "outputs": [
        {
          "output_type": "stream",
          "name": "stdout",
          "text": [
            "Top words for topic #0\n",
            "['scene', 'love', 'time', 'like', 'make', 'life', 'stori', 'charact', 'one', 'film']\n",
            "\n",
            "\n",
            "Top words for topic #1\n",
            "['realli', 'even', 'go', 'make', 'charact', 'like', 'get', 'one', 'movi', 'film']\n",
            "\n",
            "\n",
            "Top words for topic #2\n",
            "['charact', 'even', 'make', 'time', 'alien', 'effect', 'like', 'one', 'movi', 'film']\n",
            "\n",
            "\n",
            "Top words for topic #3\n",
            "['time', 'make', 'charact', 'play', 'get', 'good', 'like', 'one', 'film', 'movi']\n",
            "\n",
            "\n",
            "Top words for topic #4\n",
            "['also', 'get', 'scene', 'time', 'even', 'charact', 'like', 'movi', 'one', 'film']\n",
            "\n",
            "\n"
          ]
        }
      ]
    },
    {
      "cell_type": "code",
      "source": [
        "# Train a Word2Vec model\n",
        "sentences = [review.split() for review in data['Cleaned_Review']]\n",
        "word2vec_model = Word2Vec(sentences, vector_size=256, window=10, min_count=10, workers=4)"
      ],
      "metadata": {
        "id": "3ptooqmZSTK7"
      },
      "execution_count": 7,
      "outputs": []
    },
    {
      "cell_type": "code",
      "source": [
        "# Find similar words for a given word\n",
        "word = 'direct'\n",
        "similar_words = word2vec_model.wv.most_similar(word, topn=3)\n",
        "print(f\"Words similar to '{word}': {similar_words}\")\n",
        "\n",
        "# Replace words in the dataset if needed\n",
        "def replace_similar_words(text, word2vec_model, word):\n",
        "    for similar_word, _ in word2vec_model.wv.most_similar(word):\n",
        "        text = text.replace(similar_word, word)\n",
        "    return text\n",
        "\n",
        "# Apply the replacement to the cleaned reviews\n",
        "data['Cleaned_Review'] = data['Cleaned_Review'].apply(lambda x: replace_similar_words(x, word2vec_model, 'good'))\n"
      ],
      "metadata": {
        "colab": {
          "base_uri": "https://localhost:8080/"
        },
        "id": "E7xrGJhOkrd-",
        "outputId": "4c54aa47-c838-4e73-d7df-e081bd47fb94"
      },
      "execution_count": 8,
      "outputs": [
        {
          "output_type": "stream",
          "name": "stdout",
          "text": [
            "Words similar to 'direct': [('director', 0.951945424079895), ('written', 0.9232062101364136), ('score', 0.9129873514175415)]\n"
          ]
        }
      ]
    },
    {
      "cell_type": "code",
      "source": [
        "# Initialize TF-IDF Vectorizer\n",
        "tfidf_vectorizer = TfidfVectorizer(max_features=1000)\n",
        "X_tfidf = tfidf_vectorizer.fit_transform(data['Cleaned_Review'])\n",
        "\n",
        "# Split data into training and testing sets\n",
        "X_train, X_test, y_train, y_test = train_test_split(X_tfidf, data['Sentiment'], test_size=0.2, random_state=42)\n",
        "\n",
        "# Initialize and train Logistic Regression model\n",
        "lr_model = LogisticRegression()\n",
        "lr_model.fit(X_train, y_train)\n",
        "\n",
        "# Evaluate the model\n",
        "y_pred = lr_model.predict(X_test)\n",
        "print(f\"Accuracy: {100 * accuracy_score(y_test, y_pred)}%\")\n"
      ],
      "metadata": {
        "colab": {
          "base_uri": "https://localhost:8080/"
        },
        "id": "Ohh_Tfx1kuRR",
        "outputId": "26d8874d-e612-41a5-f96d-149e6da7f534"
      },
      "execution_count": 9,
      "outputs": [
        {
          "output_type": "stream",
          "name": "stdout",
          "text": [
            "Accuracy: 79.5%\n"
          ]
        }
      ]
    },
    {
      "cell_type": "markdown",
      "source": [
        "DONE!!!"
      ],
      "metadata": {
        "id": "aZVXxBJZBaak"
      }
    }
  ]
}